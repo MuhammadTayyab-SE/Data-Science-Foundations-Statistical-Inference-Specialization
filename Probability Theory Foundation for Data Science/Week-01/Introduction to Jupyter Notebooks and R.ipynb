{
 "cells": [
  {
   "cell_type": "markdown",
   "metadata": {},
   "source": [
    "<div class=\"alert alert-block alert-warning\">\n",
    "<h1 style=\"color:black\">Let's Get Started!</h1>\n",
    "\n",
    "Welcome to your first Jupyter Notebook. It is a collection of \"cells\" in which you can run code for various programming languages. This notebook is set up to run \"R\". R is a powerful open source language and environment for statistical computing and graphics!"
   ]
  },
  {
   "cell_type": "markdown",
   "metadata": {},
   "source": [
    "<blockquote> <b><mark>1. Variables:</mark></b> Let's begin by assigning a variable named x to have the value of 2.3. The code is already in the next cell. To run the code, make sure your cursor is in the cell and then press <code>ENTER</code> while holding down the <code>SHIFT</code> key. </blockquote>"
   ]
  },
  {
   "cell_type": "code",
   "execution_count": 1,
   "metadata": {},
   "outputs": [],
   "source": [
    "x = 2.3"
   ]
  },
  {
   "cell_type": "markdown",
   "metadata": {},
   "source": [
    "<blockquote>You have not asked for any output so let's verify that x has the value 2.3. In the next cell, type either <code>x</code> or <code>print(x)</code> and then run the cell by pressing <code>ENTER</code> while holding down the <code>SHIFT</code> key.</blockquote>"
   ]
  },
  {
   "cell_type": "code",
   "execution_count": 2,
   "metadata": {},
   "outputs": [
    {
     "data": {
      "text/plain": [
       "2.3"
      ]
     },
     "execution_count": 2,
     "metadata": {},
     "output_type": "execute_result"
    }
   ],
   "source": [
    "x"
   ]
  },
  {
   "cell_type": "markdown",
   "metadata": {},
   "source": [
    "<div class=\"alert alert-block alert-warning\">\n",
    "An alternative way to assign the value of <code>x</code> to be <code>2.3</code> is to use the \"assignment operator\", which is an arrow made from the \"less than symbol\" and a dash like this: \n",
    "\n",
    "`x <- 2.3 ` \n",
    "    \n",
    "This is more common among R \"purists\". Check out this blog __[this blog](https://blog.revolutionanalytics.com/2008/12/use-equals-or-arrow-for-assignment.html)__ if you are interested in reading more about the difference. "
   ]
  },
  {
   "cell_type": "markdown",
   "metadata": {},
   "source": [
    "<hr style=\"height:2px;border-width:0;color:black;background-color:black\">"
   ]
  },
  {
   "cell_type": "markdown",
   "metadata": {},
   "source": [
    "<b><mark>2. Vectors:</mark></b> A vector is defined with a \"c\". \n",
    "\n",
    "<blockquote>For example, to define a vector x to be (3,1,7,4,-1,8), type the following into the next open cell.\n",
    "      \n",
    "\n",
    "`x = c(3,1,7,4,-1,8)`\n",
    "    \n",
    "(You may want to write down this vector. Throughout this notebook you will be asked to perform operations on x and predict the results. It may be easier for you to not have to keep scrolling back to look at it.)\n",
    "          \n",
    "\n",
    "Access elements using square brackets. R indexing starts from 1. \n",
    "    (By comparison, some languages instead use a zero to access the first element in a vector.) \n",
    "    \n",
    "\n",
    "What do you expect the code\n",
    "\n",
    "\n",
    "`x[3]-x[1]`\n",
    "\n",
    "\n",
    "to produce? After you have guessed, add this command into the same cell below your vector definition and run the cell to check your answer.\n",
    "        </blockquote>"
   ]
  },
  {
   "cell_type": "code",
   "execution_count": 3,
   "metadata": {},
   "outputs": [
    {
     "ename": "NameError",
     "evalue": "name 'c' is not defined",
     "output_type": "error",
     "traceback": [
      "\u001b[1;31m---------------------------------------------------------------------------\u001b[0m",
      "\u001b[1;31mNameError\u001b[0m                                 Traceback (most recent call last)",
      "\u001b[1;32md:\\Data Science Course\\Probability\\Data-Science-Foundations-Statistical-Inference-Specialization\\Probability Theory Foundation for Data Science\\Introduction to Jupyter Notebooks and R.ipynb Cell 9\u001b[0m in \u001b[0;36m<cell line: 1>\u001b[1;34m()\u001b[0m\n\u001b[1;32m----> <a href='vscode-notebook-cell:/d%3A/Data%20Science%20Course/Probability/Data-Science-Foundations-Statistical-Inference-Specialization/Probability%20Theory%20Foundation%20for%20Data%20Science/Introduction%20to%20Jupyter%20Notebooks%20and%20R.ipynb#X11sZmlsZQ%3D%3D?line=0'>1</a>\u001b[0m x \u001b[39m=\u001b[39m c(\u001b[39m3\u001b[39m,\u001b[39m1\u001b[39m,\u001b[39m7\u001b[39m,\u001b[39m4\u001b[39m,\u001b[39m-\u001b[39m\u001b[39m1\u001b[39m,\u001b[39m8\u001b[39m)\n\u001b[0;32m      <a href='vscode-notebook-cell:/d%3A/Data%20Science%20Course/Probability/Data-Science-Foundations-Statistical-Inference-Specialization/Probability%20Theory%20Foundation%20for%20Data%20Science/Introduction%20to%20Jupyter%20Notebooks%20and%20R.ipynb#X11sZmlsZQ%3D%3D?line=1'>2</a>\u001b[0m x\n",
      "\u001b[1;31mNameError\u001b[0m: name 'c' is not defined"
     ]
    }
   ],
   "source": [
    "x = c(3,1,7,4,-1,8)\n",
    "x"
   ]
  },
  {
   "cell_type": "markdown",
   "metadata": {},
   "source": [
    "<blockquote>Access two or more consecutive elements using a starting index, then a colon, then an ending index. \n",
    "    \n",
    "What do you expect from the code  \n",
    "    \n",
    "`x[2:3]` ?\n",
    "    \n",
    "Try it by running the next cell!    \n",
    "</blockquote>"
   ]
  },
  {
   "cell_type": "code",
   "execution_count": 4,
   "metadata": {
    "scrolled": true
   },
   "outputs": [
    {
     "data": {
      "text/html": [
       "<style>\n",
       ".list-inline {list-style: none; margin:0; padding: 0}\n",
       ".list-inline>li {display: inline-block}\n",
       ".list-inline>li:not(:last-child)::after {content: \"\\00b7\"; padding: 0 .5ex}\n",
       "</style>\n",
       "<ol class=list-inline><li>1</li><li>7</li></ol>\n"
      ],
      "text/latex": [
       "\\begin{enumerate*}\n",
       "\\item 1\n",
       "\\item 7\n",
       "\\end{enumerate*}\n"
      ],
      "text/markdown": [
       "1. 1\n",
       "2. 7\n",
       "\n",
       "\n"
      ],
      "text/plain": [
       "[1] 1 7"
      ]
     },
     "metadata": {},
     "output_type": "display_data"
    }
   ],
   "source": [
    "# Run this cell\n",
    "x[2:3]"
   ]
  },
  {
   "cell_type": "markdown",
   "metadata": {},
   "source": [
    "<div class=\"alert alert-block alert-warning\">\n",
    "    Notice how we have included a \"comment\" in the previous cell. Lines starting with \"#\" are not executed as code!"
   ]
  },
  {
   "cell_type": "markdown",
   "metadata": {},
   "source": [
    "<blockquote>\n",
    "Typing  <br>  \n",
    "    \n",
    "`x[-2]`\n",
    "    \n",
    "will return what remains from the vector x when the second element is removed.  However, it will not overwrite the vector x. To do this we would have to reassign x as the result like this.\n",
    "    \n",
    "`x = x[-2]`    \n",
    "    \n",
    "Of course, we could also define a new vector like this\n",
    "    \n",
    "`y = x[-2]`\n",
    "    \n",
    "To remove the second through fourth elements of x, we type\n",
    "    \n",
    "`x[-(2:4)]`\n",
    "    \n",
    "To obtain or remove non-consecutive elements like, for example, the second and fifth elements, we use a vector of indices like\n",
    "    \n",
    "`x[c(2,5)]` or `x[-c(2,5)]`    \n",
    "\n",
    "</blockquote>"
   ]
  },
  {
   "cell_type": "code",
   "execution_count": 5,
   "metadata": {},
   "outputs": [
    {
     "data": {
      "text/html": [
       "<style>\n",
       ".list-inline {list-style: none; margin:0; padding: 0}\n",
       ".list-inline>li {display: inline-block}\n",
       ".list-inline>li:not(:last-child)::after {content: \"\\00b7\"; padding: 0 .5ex}\n",
       "</style>\n",
       "<ol class=list-inline><li>1</li><li>4</li></ol>\n"
      ],
      "text/latex": [
       "\\begin{enumerate*}\n",
       "\\item 1\n",
       "\\item 4\n",
       "\\end{enumerate*}\n"
      ],
      "text/markdown": [
       "1. 1\n",
       "2. 4\n",
       "\n",
       "\n"
      ],
      "text/plain": [
       "[1] 1 4"
      ]
     },
     "metadata": {},
     "output_type": "display_data"
    }
   ],
   "source": [
    "# This cell is here in case you want to use it to play with any of the commands just mentioned.\n",
    "# You can type and run code in this cell!\n",
    "\n",
    "x[c(2, 4)]"
   ]
  },
  {
   "cell_type": "markdown",
   "metadata": {},
   "source": [
    "<blockquote>In the next cell, define a vector named y whose \n",
    "elements are (2,7,-2,4,0,3.3). Then add the \n",
    "vectors x and y. Is the result what you expected? </blockquote>\n"
   ]
  },
  {
   "cell_type": "code",
   "execution_count": 6,
   "metadata": {},
   "outputs": [],
   "source": [
    "y = c(2,7,-2,4,0,3.3)"
   ]
  },
  {
   "cell_type": "markdown",
   "metadata": {},
   "source": [
    "<blockquote>In the next cell, we will add a single number to \n",
    " every element of x by typing x+7. \n",
    "\n",
    "While it doesn't make sense mathematically to add a scalar to a vector, it makes sense in R!\n",
    "    \n",
    "Give it a try.   \n",
    "</blockquote>\n"
   ]
  },
  {
   "cell_type": "code",
   "execution_count": 7,
   "metadata": {},
   "outputs": [
    {
     "data": {
      "text/html": [
       "<style>\n",
       ".list-inline {list-style: none; margin:0; padding: 0}\n",
       ".list-inline>li {display: inline-block}\n",
       ".list-inline>li:not(:last-child)::after {content: \"\\00b7\"; padding: 0 .5ex}\n",
       "</style>\n",
       "<ol class=list-inline><li>5</li><li>8</li><li>5</li><li>8</li><li>-1</li><li>11.3</li></ol>\n"
      ],
      "text/latex": [
       "\\begin{enumerate*}\n",
       "\\item 5\n",
       "\\item 8\n",
       "\\item 5\n",
       "\\item 8\n",
       "\\item -1\n",
       "\\item 11.3\n",
       "\\end{enumerate*}\n"
      ],
      "text/markdown": [
       "1. 5\n",
       "2. 8\n",
       "3. 5\n",
       "4. 8\n",
       "5. -1\n",
       "6. 11.3\n",
       "\n",
       "\n"
      ],
      "text/plain": [
       "[1]  5.0  8.0  5.0  8.0 -1.0 11.3"
      ]
     },
     "metadata": {},
     "output_type": "display_data"
    }
   ],
   "source": [
    "x+y"
   ]
  },
  {
   "cell_type": "markdown",
   "metadata": {},
   "source": [
    "<blockquote >A sequence of consecutive numbers, say 1 through 6,\n",
    " can be produced  by typing  <br>\n",
    "\n",
    "`1:6`\n",
    "\n",
    " or\n",
    "\n",
    "`seq(1,6)`\n",
    "\n",
    " Try it below.</blockquote>"
   ]
  },
  {
   "cell_type": "code",
   "execution_count": 8,
   "metadata": {},
   "outputs": [
    {
     "data": {
      "text/html": [
       "<style>\n",
       ".list-inline {list-style: none; margin:0; padding: 0}\n",
       ".list-inline>li {display: inline-block}\n",
       ".list-inline>li:not(:last-child)::after {content: \"\\00b7\"; padding: 0 .5ex}\n",
       "</style>\n",
       "<ol class=list-inline><li>1</li><li>2</li><li>3</li><li>4</li><li>5</li><li>6</li></ol>\n"
      ],
      "text/latex": [
       "\\begin{enumerate*}\n",
       "\\item 1\n",
       "\\item 2\n",
       "\\item 3\n",
       "\\item 4\n",
       "\\item 5\n",
       "\\item 6\n",
       "\\end{enumerate*}\n"
      ],
      "text/markdown": [
       "1. 1\n",
       "2. 2\n",
       "3. 3\n",
       "4. 4\n",
       "5. 5\n",
       "6. 6\n",
       "\n",
       "\n"
      ],
      "text/plain": [
       "[1] 1 2 3 4 5 6"
      ]
     },
     "metadata": {},
     "output_type": "display_data"
    }
   ],
   "source": [
    "1:6"
   ]
  },
  {
   "cell_type": "markdown",
   "metadata": {},
   "source": [
    "<blockquote>The \"sequence\" function we used in the last cell \n",
    "can also take a third argument. To produce a sequence\n",
    "from 1 to 6, while incrementing by 2, type the following into\n",
    "    the next cell and run the cell.\n",
    "Do the results make sense to you? <br>\n",
    "\n",
    "`seq(1,6,2)`\n",
    "    \n",
    "</blockquote>"
   ]
  },
  {
   "cell_type": "code",
   "execution_count": 9,
   "metadata": {},
   "outputs": [
    {
     "data": {
      "text/html": [
       "<style>\n",
       ".list-inline {list-style: none; margin:0; padding: 0}\n",
       ".list-inline>li {display: inline-block}\n",
       ".list-inline>li:not(:last-child)::after {content: \"\\00b7\"; padding: 0 .5ex}\n",
       "</style>\n",
       "<ol class=list-inline><li>1</li><li>3</li><li>5</li><li>7</li><li>9</li></ol>\n"
      ],
      "text/latex": [
       "\\begin{enumerate*}\n",
       "\\item 1\n",
       "\\item 3\n",
       "\\item 5\n",
       "\\item 7\n",
       "\\item 9\n",
       "\\end{enumerate*}\n"
      ],
      "text/markdown": [
       "1. 1\n",
       "2. 3\n",
       "3. 5\n",
       "4. 7\n",
       "5. 9\n",
       "\n",
       "\n"
      ],
      "text/plain": [
       "[1] 1 3 5 7 9"
      ]
     },
     "metadata": {},
     "output_type": "display_data"
    }
   ],
   "source": [
    "seq(1,10,2)"
   ]
  },
  {
   "cell_type": "markdown",
   "metadata": {},
   "source": [
    "<blockquote>One of the coolest things about R is its abillity to find all elements of a vector meeting certain conditions. To find all elements of x that are greater than or equal to 5, type  <br>  \n",
    "    \n",
    "`x[x>=5]`\n",
    "    \n",
    "To find all elements that are equal to 7 type\n",
    "    \n",
    "`x[x==7]`\n",
    "    \n",
    "and to find all elements that are not equal to 7 type\n",
    "    \n",
    "`x[x!=7]`    \n",
    "</blockquote>"
   ]
  },
  {
   "cell_type": "code",
   "execution_count": 10,
   "metadata": {},
   "outputs": [
    {
     "data": {
      "text/html": [
       "<style>\n",
       ".list-inline {list-style: none; margin:0; padding: 0}\n",
       ".list-inline>li {display: inline-block}\n",
       ".list-inline>li:not(:last-child)::after {content: \"\\00b7\"; padding: 0 .5ex}\n",
       "</style>\n",
       "<ol class=list-inline><li>7</li><li>8</li></ol>\n"
      ],
      "text/latex": [
       "\\begin{enumerate*}\n",
       "\\item 7\n",
       "\\item 8\n",
       "\\end{enumerate*}\n"
      ],
      "text/markdown": [
       "1. 7\n",
       "2. 8\n",
       "\n",
       "\n"
      ],
      "text/plain": [
       "[1] 7 8"
      ]
     },
     "metadata": {},
     "output_type": "display_data"
    },
    {
     "data": {
      "text/html": [
       "7"
      ],
      "text/latex": [
       "7"
      ],
      "text/markdown": [
       "7"
      ],
      "text/plain": [
       "[1] 7"
      ]
     },
     "metadata": {},
     "output_type": "display_data"
    },
    {
     "data": {
      "text/html": [
       "<style>\n",
       ".list-inline {list-style: none; margin:0; padding: 0}\n",
       ".list-inline>li {display: inline-block}\n",
       ".list-inline>li:not(:last-child)::after {content: \"\\00b7\"; padding: 0 .5ex}\n",
       "</style>\n",
       "<ol class=list-inline><li>3</li><li>1</li><li>4</li><li>-1</li><li>8</li></ol>\n"
      ],
      "text/latex": [
       "\\begin{enumerate*}\n",
       "\\item 3\n",
       "\\item 1\n",
       "\\item 4\n",
       "\\item -1\n",
       "\\item 8\n",
       "\\end{enumerate*}\n"
      ],
      "text/markdown": [
       "1. 3\n",
       "2. 1\n",
       "3. 4\n",
       "4. -1\n",
       "5. 8\n",
       "\n",
       "\n"
      ],
      "text/plain": [
       "[1]  3  1  4 -1  8"
      ]
     },
     "metadata": {},
     "output_type": "display_data"
    }
   ],
   "source": [
    "# Run this cell\n",
    "x[x>=5]\n",
    "x[x==7]\n",
    "x[x!=7]"
   ]
  },
  {
   "cell_type": "markdown",
   "metadata": {},
   "source": [
    "<blockquote>\n",
    "Sometimes you'll want to know the locations of the elements of x that are greater than or equal to 5. <br>\n",
    "    \n",
    "`which(x>=5)`\n",
    "    \n",
    "Try it by running the next cell. There is an additional command there. From the results, can you figure out what it does?\n",
    "</blockquote>    "
   ]
  },
  {
   "cell_type": "code",
   "execution_count": 12,
   "metadata": {},
   "outputs": [
    {
     "data": {
      "text/html": [
       "<style>\n",
       ".list-inline {list-style: none; margin:0; padding: 0}\n",
       ".list-inline>li {display: inline-block}\n",
       ".list-inline>li:not(:last-child)::after {content: \"\\00b7\"; padding: 0 .5ex}\n",
       "</style>\n",
       "<ol class=list-inline><li>3</li><li>6</li></ol>\n"
      ],
      "text/latex": [
       "\\begin{enumerate*}\n",
       "\\item 3\n",
       "\\item 6\n",
       "\\end{enumerate*}\n"
      ],
      "text/markdown": [
       "1. 3\n",
       "2. 6\n",
       "\n",
       "\n"
      ],
      "text/plain": [
       "[1] 3 6"
      ]
     },
     "metadata": {},
     "output_type": "display_data"
    },
    {
     "data": {
      "text/html": [
       "<style>\n",
       ".list-inline {list-style: none; margin:0; padding: 0}\n",
       ".list-inline>li {display: inline-block}\n",
       ".list-inline>li:not(:last-child)::after {content: \"\\00b7\"; padding: 0 .5ex}\n",
       "</style>\n",
       "<ol class=list-inline><li>FALSE</li><li>FALSE</li><li>TRUE</li><li>FALSE</li><li>FALSE</li><li>TRUE</li></ol>\n"
      ],
      "text/latex": [
       "\\begin{enumerate*}\n",
       "\\item FALSE\n",
       "\\item FALSE\n",
       "\\item TRUE\n",
       "\\item FALSE\n",
       "\\item FALSE\n",
       "\\item TRUE\n",
       "\\end{enumerate*}\n"
      ],
      "text/markdown": [
       "1. FALSE\n",
       "2. FALSE\n",
       "3. TRUE\n",
       "4. FALSE\n",
       "5. FALSE\n",
       "6. TRUE\n",
       "\n",
       "\n"
      ],
      "text/plain": [
       "[1] FALSE FALSE  TRUE FALSE FALSE  TRUE"
      ]
     },
     "metadata": {},
     "output_type": "display_data"
    }
   ],
   "source": [
    "# Run this cell\n",
    "which(x>=5)\n",
    "x>=5"
   ]
  },
  {
   "cell_type": "markdown",
   "metadata": {},
   "source": [
    "<blockquote>We can find locations in one vector and use them to pull elements out of another.\n",
    "\n",
    "Let's try it.\n",
    "</blockquote>"
   ]
  },
  {
   "cell_type": "code",
   "execution_count": 13,
   "metadata": {},
   "outputs": [
    {
     "data": {
      "text/html": [
       "<style>\n",
       ".list-inline {list-style: none; margin:0; padding: 0}\n",
       ".list-inline>li {display: inline-block}\n",
       ".list-inline>li:not(:last-child)::after {content: \"\\00b7\"; padding: 0 .5ex}\n",
       "</style>\n",
       "<ol class=list-inline><li>3</li><li>1</li><li>7</li><li>4</li><li>-1</li><li>8</li></ol>\n"
      ],
      "text/latex": [
       "\\begin{enumerate*}\n",
       "\\item 3\n",
       "\\item 1\n",
       "\\item 7\n",
       "\\item 4\n",
       "\\item -1\n",
       "\\item 8\n",
       "\\end{enumerate*}\n"
      ],
      "text/markdown": [
       "1. 3\n",
       "2. 1\n",
       "3. 7\n",
       "4. 4\n",
       "5. -1\n",
       "6. 8\n",
       "\n",
       "\n"
      ],
      "text/plain": [
       "[1]  3  1  7  4 -1  8"
      ]
     },
     "metadata": {},
     "output_type": "display_data"
    },
    {
     "data": {
      "text/html": [
       "<style>\n",
       ".list-inline {list-style: none; margin:0; padding: 0}\n",
       ".list-inline>li {display: inline-block}\n",
       ".list-inline>li:not(:last-child)::after {content: \"\\00b7\"; padding: 0 .5ex}\n",
       "</style>\n",
       "<ol class=list-inline><li>2</li><li>7</li><li>-2</li><li>4</li><li>0</li><li>3.3</li></ol>\n"
      ],
      "text/latex": [
       "\\begin{enumerate*}\n",
       "\\item 2\n",
       "\\item 7\n",
       "\\item -2\n",
       "\\item 4\n",
       "\\item 0\n",
       "\\item 3.3\n",
       "\\end{enumerate*}\n"
      ],
      "text/markdown": [
       "1. 2\n",
       "2. 7\n",
       "3. -2\n",
       "4. 4\n",
       "5. 0\n",
       "6. 3.3\n",
       "\n",
       "\n"
      ],
      "text/plain": [
       "[1]  2.0  7.0 -2.0  4.0  0.0  3.3"
      ]
     },
     "metadata": {},
     "output_type": "display_data"
    },
    {
     "data": {
      "text/html": [
       "-2"
      ],
      "text/latex": [
       "-2"
      ],
      "text/markdown": [
       "-2"
      ],
      "text/plain": [
       "[1] -2"
      ]
     },
     "metadata": {},
     "output_type": "display_data"
    }
   ],
   "source": [
    "# Run this cell\n",
    "x\n",
    "y\n",
    "y[x==7]"
   ]
  },
  {
   "cell_type": "markdown",
   "metadata": {},
   "source": [
    "<blockquote>We can return values of x satisfying two (or more) conditions. For example, typing <br>\n",
    "\n",
    "`\n",
    "    x[x>1 & x<7]\n",
    "`   \n",
    "                   \n",
    "will return all values of x that are greater than 1 <u>and</u> also less than 7.\n",
    "\n",
    "To return all values that are either greater than or equal to 7 <u>or</u> less than 1, use a vertical line like this\n",
    "\n",
    "`\n",
    "    x[x>=7 | x<1]\n",
    "`    \n",
    "\n",
    "What do you think the following line of code will produce?\n",
    "\n",
    "`\n",
    "    x[(x>1 & x<7)| x<0]\n",
    "`\n",
    "\n",
    "Try it in the next cell to see if you are correct!\n",
    "\n",
    "</blockquote>"
   ]
  },
  {
   "cell_type": "code",
   "execution_count": 14,
   "metadata": {},
   "outputs": [
    {
     "data": {
      "text/html": [
       "<style>\n",
       ".list-inline {list-style: none; margin:0; padding: 0}\n",
       ".list-inline>li {display: inline-block}\n",
       ".list-inline>li:not(:last-child)::after {content: \"\\00b7\"; padding: 0 .5ex}\n",
       "</style>\n",
       "<ol class=list-inline><li>3</li><li>4</li><li>-1</li></ol>\n"
      ],
      "text/latex": [
       "\\begin{enumerate*}\n",
       "\\item 3\n",
       "\\item 4\n",
       "\\item -1\n",
       "\\end{enumerate*}\n"
      ],
      "text/markdown": [
       "1. 3\n",
       "2. 4\n",
       "3. -1\n",
       "\n",
       "\n"
      ],
      "text/plain": [
       "[1]  3  4 -1"
      ]
     },
     "metadata": {},
     "output_type": "display_data"
    }
   ],
   "source": [
    "x[(x>1 & x<7)| x<0]"
   ]
  },
  {
   "cell_type": "markdown",
   "metadata": {},
   "source": [
    "<hr style=\"height:2px;border-width:0;color:black;background-color:black\">"
   ]
  },
  {
   "cell_type": "markdown",
   "metadata": {},
   "source": [
    " <blockquote><b><mark>3. Built-In Functions:</mark></b> There are hundreds of built-in functions in the base R package and in the extra libraries that you can install.\n",
    "\n",
    "\n",
    "Read the commands in the next cell before running it and try to guess what the output will be for each!\n",
    "</blockquote>"
   ]
  },
  {
   "cell_type": "code",
   "execution_count": 15,
   "metadata": {},
   "outputs": [
    {
     "data": {
      "text/html": [
       "22"
      ],
      "text/latex": [
       "22"
      ],
      "text/markdown": [
       "22"
      ],
      "text/plain": [
       "[1] 22"
      ]
     },
     "metadata": {},
     "output_type": "display_data"
    },
    {
     "data": {
      "text/html": [
       "-672"
      ],
      "text/latex": [
       "-672"
      ],
      "text/markdown": [
       "-672"
      ],
      "text/plain": [
       "[1] -672"
      ]
     },
     "metadata": {},
     "output_type": "display_data"
    },
    {
     "data": {
      "text/html": [
       "6"
      ],
      "text/latex": [
       "6"
      ],
      "text/markdown": [
       "6"
      ],
      "text/plain": [
       "[1] 6"
      ]
     },
     "metadata": {},
     "output_type": "display_data"
    },
    {
     "data": {
      "text/html": [
       "3.66666666666667"
      ],
      "text/latex": [
       "3.66666666666667"
      ],
      "text/markdown": [
       "3.66666666666667"
      ],
      "text/plain": [
       "[1] 3.666667"
      ]
     },
     "metadata": {},
     "output_type": "display_data"
    },
    {
     "data": {
      "text/html": [
       "<style>\n",
       ".list-inline {list-style: none; margin:0; padding: 0}\n",
       ".list-inline>li {display: inline-block}\n",
       ".list-inline>li:not(:last-child)::after {content: \"\\00b7\"; padding: 0 .5ex}\n",
       "</style>\n",
       "<ol class=list-inline><li>20.0855369231877</li><li>2.71828182845905</li><li>1096.63315842846</li><li>54.5981500331442</li><li>0.367879441171442</li><li>2980.95798704173</li></ol>\n"
      ],
      "text/latex": [
       "\\begin{enumerate*}\n",
       "\\item 20.0855369231877\n",
       "\\item 2.71828182845905\n",
       "\\item 1096.63315842846\n",
       "\\item 54.5981500331442\n",
       "\\item 0.367879441171442\n",
       "\\item 2980.95798704173\n",
       "\\end{enumerate*}\n"
      ],
      "text/markdown": [
       "1. 20.0855369231877\n",
       "2. 2.71828182845905\n",
       "3. 1096.63315842846\n",
       "4. 54.5981500331442\n",
       "5. 0.367879441171442\n",
       "6. 2980.95798704173\n",
       "\n",
       "\n"
      ],
      "text/plain": [
       "[1]   20.0855369    2.7182818 1096.6331584   54.5981500    0.3678794\n",
       "[6] 2980.9579870"
      ]
     },
     "metadata": {},
     "output_type": "display_data"
    },
    {
     "name": "stderr",
     "output_type": "stream",
     "text": [
      "Warning message in log(x):\n",
      "“NaNs produced”\n"
     ]
    },
    {
     "data": {
      "text/html": [
       "<style>\n",
       ".list-inline {list-style: none; margin:0; padding: 0}\n",
       ".list-inline>li {display: inline-block}\n",
       ".list-inline>li:not(:last-child)::after {content: \"\\00b7\"; padding: 0 .5ex}\n",
       "</style>\n",
       "<ol class=list-inline><li>1.09861228866811</li><li>0</li><li>1.94591014905531</li><li>1.38629436111989</li><li>NaN</li><li>2.07944154167984</li></ol>\n"
      ],
      "text/latex": [
       "\\begin{enumerate*}\n",
       "\\item 1.09861228866811\n",
       "\\item 0\n",
       "\\item 1.94591014905531\n",
       "\\item 1.38629436111989\n",
       "\\item NaN\n",
       "\\item 2.07944154167984\n",
       "\\end{enumerate*}\n"
      ],
      "text/markdown": [
       "1. 1.09861228866811\n",
       "2. 0\n",
       "3. 1.94591014905531\n",
       "4. 1.38629436111989\n",
       "5. NaN\n",
       "6. 2.07944154167984\n",
       "\n",
       "\n"
      ],
      "text/plain": [
       "[1] 1.098612 0.000000 1.945910 1.386294      NaN 2.079442"
      ]
     },
     "metadata": {},
     "output_type": "display_data"
    },
    {
     "name": "stderr",
     "output_type": "stream",
     "text": [
      "Warning message in sqrt(x):\n",
      "“NaNs produced”\n"
     ]
    },
    {
     "data": {
      "text/html": [
       "<style>\n",
       ".list-inline {list-style: none; margin:0; padding: 0}\n",
       ".list-inline>li {display: inline-block}\n",
       ".list-inline>li:not(:last-child)::after {content: \"\\00b7\"; padding: 0 .5ex}\n",
       "</style>\n",
       "<ol class=list-inline><li>1.73205080756888</li><li>1</li><li>2.64575131106459</li><li>2</li><li>NaN</li><li>2.82842712474619</li></ol>\n"
      ],
      "text/latex": [
       "\\begin{enumerate*}\n",
       "\\item 1.73205080756888\n",
       "\\item 1\n",
       "\\item 2.64575131106459\n",
       "\\item 2\n",
       "\\item NaN\n",
       "\\item 2.82842712474619\n",
       "\\end{enumerate*}\n"
      ],
      "text/markdown": [
       "1. 1.73205080756888\n",
       "2. 1\n",
       "3. 2.64575131106459\n",
       "4. 2\n",
       "5. NaN\n",
       "6. 2.82842712474619\n",
       "\n",
       "\n"
      ],
      "text/plain": [
       "[1] 1.732051 1.000000 2.645751 2.000000      NaN 2.828427"
      ]
     },
     "metadata": {},
     "output_type": "display_data"
    }
   ],
   "source": [
    "sum(x)\n",
    "prod(x)\n",
    "length(x)\n",
    "mean(x)\n",
    "exp(x)\n",
    "log(x)    # A warning is expected here!\n",
    "sqrt(x)   # A warning is expected here!"
   ]
  },
  {
   "cell_type": "markdown",
   "metadata": {},
   "source": [
    "<blockquote>To square each element of the vector x, we type <code>x^2</code>.\n",
    "\n",
    "The <mark>sample variance</mark> of the data held in the vector x is \n",
    "    \n",
    "$$\n",
    "S^{2} = \\frac{\\sum_{i=1}^{n}(X_{i}-\\overline{X})^{2}}{n-1} = \\frac{\\sum_{i=1}^{n} X_{i}^{2} - (\\sum_{i=1}^{n} X_{i})^{2}/n}{n-1}\n",
    "$$\n",
    "        \n",
    "We can compute it with a built-in variance function but let's also try it using the sum and \"squaring\" functions.    \n",
    "\n",
    "(Don't worry if you don't know what sample variance is and are unfamiliar with this formula. We will talk about it in this course!)\n",
    "</blockquote>"
   ]
  },
  {
   "cell_type": "code",
   "execution_count": 16,
   "metadata": {},
   "outputs": [
    {
     "data": {
      "text/html": [
       "11.8666666666667"
      ],
      "text/latex": [
       "11.8666666666667"
      ],
      "text/markdown": [
       "11.8666666666667"
      ],
      "text/plain": [
       "[1] 11.86667"
      ]
     },
     "metadata": {},
     "output_type": "display_data"
    },
    {
     "data": {
      "text/html": [
       "11.8666666666667"
      ],
      "text/latex": [
       "11.8666666666667"
      ],
      "text/markdown": [
       "11.8666666666667"
      ],
      "text/plain": [
       "[1] 11.86667"
      ]
     },
     "metadata": {},
     "output_type": "display_data"
    }
   ],
   "source": [
    "var(x)\n",
    "(sum(x^2)-sum(x)^2/length(x))/(length(x)-1)\n",
    "\n",
    "# After running this cell, go back, delete the second \n",
    "# line, and to try to reproduce it! "
   ]
  },
  {
   "cell_type": "markdown",
   "metadata": {},
   "source": [
    "<blockquote>Many built-in functions in R are \"guessable\". When they are not, they are usually easy to find on the internet with your favorite search engine!</blockquote>"
   ]
  },
  {
   "cell_type": "markdown",
   "metadata": {},
   "source": [
    "<hr style=\"height:2px;border-width:0;color:black;background-color:black\">"
   ]
  },
  {
   "cell_type": "markdown",
   "metadata": {},
   "source": [
    "<blockquote> <b><mark>4. Loops and Conditional Statements:</mark></b> A \"for loop\" allows us to go through several iterations of a task. For example, run the next cell to print out the numbers 1 through 3. \n",
    "</blockquote>"
   ]
  },
  {
   "cell_type": "code",
   "execution_count": 17,
   "metadata": {},
   "outputs": [
    {
     "name": "stdout",
     "output_type": "stream",
     "text": [
      "[1] 1\n",
      "[1] 2\n",
      "[1] 3\n"
     ]
    }
   ],
   "source": [
    "for (i in 1:3)\n",
    "{\n",
    "    print(i)\n",
    "}"
   ]
  },
  {
   "cell_type": "markdown",
   "metadata": {},
   "source": [
    "<blockquote>Unlike the case in a language such as Python, the indentation is unimportant here and is used only to keep things nice and organized. The code in the previous cell could be written all on one line or in any other way such as <br>\n",
    "\n",
    "    \n",
    "`for (i in 1:3){\n",
    " print(i)}`    \n",
    "</blockquote>\n",
    "\n",
    "<blockquote>Let's try something more computational. Let's go through the elements of the vector x and increase the first element by 1, the second element by 2, et cetera. You'll need to add a line with just \"x\" or \"print(x)\" to the following cell if you want to actually see the results. "
   ]
  },
  {
   "cell_type": "code",
   "execution_count": 18,
   "metadata": {},
   "outputs": [],
   "source": [
    "# Run this cell\n",
    "for (i in 1:length(x))\n",
    "{\n",
    "    x[i] = x[i]+i\n",
    "}"
   ]
  },
  {
   "cell_type": "markdown",
   "metadata": {},
   "source": [
    "<blockquote><mark style=\"background: #ffcccb!important\">Herein lies an important lesson about R.</mark> \"Looping\" through operations can be quite slow when you are coding something more complicated. It is good practice to always think about ways to avoid loops by harnessing the power of matrix/vector manipulation in R. For example, we can restore the vector x to hold its original values by writing another loop, <b><u>or</u></b>, we can make a sequence from 1 to the length of x like this\n",
    "\n",
    "`1:length(x)`\n",
    "    \n",
    "and subtract it all at once like this\n",
    "    \n",
    "`x = x - (1:length(x))`  \n",
    "    \n",
    "Try this in the next cell and add a line so that you can see the results. \n",
    "\n",
    "</blockquote>"
   ]
  },
  {
   "cell_type": "code",
   "execution_count": 21,
   "metadata": {},
   "outputs": [
    {
     "data": {
      "text/html": [
       "<style>\n",
       ".list-inline {list-style: none; margin:0; padding: 0}\n",
       ".list-inline>li {display: inline-block}\n",
       ".list-inline>li:not(:last-child)::after {content: \"\\00b7\"; padding: 0 .5ex}\n",
       "</style>\n",
       "<ol class=list-inline><li>3</li><li>1</li><li>7</li><li>4</li><li>-1</li><li>8</li></ol>\n"
      ],
      "text/latex": [
       "\\begin{enumerate*}\n",
       "\\item 3\n",
       "\\item 1\n",
       "\\item 7\n",
       "\\item 4\n",
       "\\item -1\n",
       "\\item 8\n",
       "\\end{enumerate*}\n"
      ],
      "text/markdown": [
       "1. 3\n",
       "2. 1\n",
       "3. 7\n",
       "4. 4\n",
       "5. -1\n",
       "6. 8\n",
       "\n",
       "\n"
      ],
      "text/plain": [
       "[1]  3  1  7  4 -1  8"
      ]
     },
     "metadata": {},
     "output_type": "display_data"
    }
   ],
   "source": [
    "x- (1: length(x))"
   ]
  },
  {
   "cell_type": "markdown",
   "metadata": {},
   "source": [
    "<blockquote>A \"while loop\" will execute until a condition is met. For example,<br>\n",
    "\n",
    "`\n",
    "i = i\n",
    "while(i < 4)\n",
    "{\n",
    "   print(i)\n",
    "   i = i+1\n",
    "}           \n",
    "`   \n",
    "<br>            \n",
    "(This is just an illustration of the \"while loop\". There are much better ways to achieve the desired result for this simple task!)           \n",
    "</blockquote>"
   ]
  },
  {
   "cell_type": "markdown",
   "metadata": {},
   "source": [
    "<div class=\"alert alert-block alert-warning\">At this point in this tutorial, the vector x should have its original values. However, since we have done so many manipulations and you may have run some cells more than once while exploring, check in the next cell to make sure that the vector x is still (3,1,7,4,-1,8). If it is not, redefine x so that it holds these values. "
   ]
  },
  {
   "cell_type": "code",
   "execution_count": 22,
   "metadata": {},
   "outputs": [],
   "source": [
    "x = c(3,1,7,4,-1,8)"
   ]
  },
  {
   "cell_type": "markdown",
   "metadata": {},
   "source": [
    "<blockquote> An \"if statement\" will check if given conditions are met. For example, let's define a vector $y$ that will take on values $1$ or $-1$ for the $i$th entry, depending on whether the corresponding entry of $x$ is less than or equal to $5$ or greater than $5$.\n",
    "    \n",
    "Try the following code in the next cell. In the first line, we are initializing a new vector y as a vector of zeros having the same length as x. \"rep\" means \"repeat\"   \n",
    "\n",
    "\n",
    "</blockquote>"
   ]
  },
  {
   "cell_type": "code",
   "execution_count": 24,
   "metadata": {},
   "outputs": [
    {
     "data": {
      "text/html": [
       "<style>\n",
       ".list-inline {list-style: none; margin:0; padding: 0}\n",
       ".list-inline>li {display: inline-block}\n",
       ".list-inline>li:not(:last-child)::after {content: \"\\00b7\"; padding: 0 .5ex}\n",
       "</style>\n",
       "<ol class=list-inline><li>3</li><li>1</li><li>7</li><li>4</li><li>-1</li><li>8</li></ol>\n"
      ],
      "text/latex": [
       "\\begin{enumerate*}\n",
       "\\item 3\n",
       "\\item 1\n",
       "\\item 7\n",
       "\\item 4\n",
       "\\item -1\n",
       "\\item 8\n",
       "\\end{enumerate*}\n"
      ],
      "text/markdown": [
       "1. 3\n",
       "2. 1\n",
       "3. 7\n",
       "4. 4\n",
       "5. -1\n",
       "6. 8\n",
       "\n",
       "\n"
      ],
      "text/plain": [
       "[1]  3  1  7  4 -1  8"
      ]
     },
     "metadata": {},
     "output_type": "display_data"
    }
   ],
   "source": [
    "x"
   ]
  },
  {
   "cell_type": "code",
   "execution_count": 43,
   "metadata": {},
   "outputs": [
    {
     "data": {
      "text/html": [
       "<style>\n",
       ".list-inline {list-style: none; margin:0; padding: 0}\n",
       ".list-inline>li {display: inline-block}\n",
       ".list-inline>li:not(:last-child)::after {content: \"\\00b7\"; padding: 0 .5ex}\n",
       "</style>\n",
       "<ol class=list-inline><li>1</li><li>1</li><li>-1</li><li>1</li><li>1</li><li>-1</li></ol>\n"
      ],
      "text/latex": [
       "\\begin{enumerate*}\n",
       "\\item 1\n",
       "\\item 1\n",
       "\\item -1\n",
       "\\item 1\n",
       "\\item 1\n",
       "\\item -1\n",
       "\\end{enumerate*}\n"
      ],
      "text/markdown": [
       "1. 1\n",
       "2. 1\n",
       "3. -1\n",
       "4. 1\n",
       "5. 1\n",
       "6. -1\n",
       "\n",
       "\n"
      ],
      "text/plain": [
       "[1]  1  1 -1  1  1 -1"
      ]
     },
     "metadata": {},
     "output_type": "display_data"
    }
   ],
   "source": [
    "# Run this cell.\n",
    "y = rep(0,length(x))   \n",
    "\n",
    "for (i in 1:length(x))\n",
    "{\n",
    "    if(x[i]<=5)\n",
    "    {\n",
    "        y[i] = 1\n",
    "    }\n",
    "    else\n",
    "    { \n",
    "        y[i] = -1          \n",
    "    }           \n",
    "}    \n",
    "\n",
    "y # This line is included so that y is shown at the end.\n"
   ]
  },
  {
   "cell_type": "markdown",
   "metadata": {},
   "source": [
    "<blockquote>The better and more \"R way\" to do the same thing would be to type <br>\n",
    "\n",
    "`\n",
    " y<-rep(-1,length(x))\n",
    " y[x <= 5]<-1                     \n",
    "`    \n",
    "             \n",
    "Try it in the next cell and add a line to display the results.              \n",
    "</blockquote>\n",
    "    "
   ]
  },
  {
   "cell_type": "code",
   "execution_count": 28,
   "metadata": {},
   "outputs": [
    {
     "data": {
      "text/html": [
       "<style>\n",
       ".list-inline {list-style: none; margin:0; padding: 0}\n",
       ".list-inline>li {display: inline-block}\n",
       ".list-inline>li:not(:last-child)::after {content: \"\\00b7\"; padding: 0 .5ex}\n",
       "</style>\n",
       "<ol class=list-inline><li>1</li><li>1</li><li>-1</li><li>1</li><li>1</li><li>-1</li></ol>\n"
      ],
      "text/latex": [
       "\\begin{enumerate*}\n",
       "\\item 1\n",
       "\\item 1\n",
       "\\item -1\n",
       "\\item 1\n",
       "\\item 1\n",
       "\\item -1\n",
       "\\end{enumerate*}\n"
      ],
      "text/markdown": [
       "1. 1\n",
       "2. 1\n",
       "3. -1\n",
       "4. 1\n",
       "5. 1\n",
       "6. -1\n",
       "\n",
       "\n"
      ],
      "text/plain": [
       "[1]  1  1 -1  1  1 -1"
      ]
     },
     "metadata": {},
     "output_type": "display_data"
    }
   ],
   "source": [
    "y <- rep(0, length(x))\n",
    "y[x <= 5] = 1\n",
    "y[x > 5] = -1\n",
    "y\n"
   ]
  },
  {
   "cell_type": "markdown",
   "metadata": {},
   "source": [
    "<div class=\"alert alert-block alert-warning\"><b>***Note:</b> In a Jupyter notebook, lines of code do not run until we hold down <code>Shift</code> and hit <code>Enter</code>. If you are using R software outside of a Jupyter notebook, there is a good chance the code is being interpreted line by line each time you hit <code>Enter</code> to move to the next line. In this case, if you were to type\n",
    "    \n",
    "\n",
    "<code>if(x[1]<=5)\n",
    " {\n",
    "    y[1] = 1\n",
    " }\n",
    " else\n",
    " { \n",
    "    y[1] = -1          \n",
    " }          \n",
    "</code>\n",
    "    \n",
    "when you hit enter after the bracket on the 4th line, R is going assign y[1] to be 1 if x[1] is less than or equal to 5 and not expect that you have another command for the case that x[1]>5. The second part will not be executed and, indeed, you will get an error starting the next command with \"else\".   One way to avoid this is to let R know that the \"else\" is coming before executing the 4th line by including on this 4th line.\n",
    "    \n",
    " <code>if(x[1]<=5)\n",
    " {\n",
    "    y[1] = 1\n",
    " }else\n",
    " { \n",
    "    y[1] = -1          \n",
    " }          \n",
    "</code>   "
   ]
  },
  {
   "cell_type": "markdown",
   "metadata": {},
   "source": [
    "<hr style=\"height:2px;border-width:0;color:black;background-color:black\">"
   ]
  },
  {
   "cell_type": "markdown",
   "metadata": {},
   "source": [
    "<blockquote> \n",
    "    <b><mark>5. Matrices:</mark></b> For completeness, we will cover matrices and simple matrix operations but only briefly as we will not really be using them in this course. \n",
    "    \n",
    "Let's define a 6 by 6 matrix of zeros and call it \"A\".\n",
    "</blockquote>\n"
   ]
  },
  {
   "cell_type": "code",
   "execution_count": 30,
   "metadata": {},
   "outputs": [],
   "source": [
    "# Run this code\n",
    "A = matrix(0,6,6)"
   ]
  },
  {
   "cell_type": "markdown",
   "metadata": {},
   "source": [
    "<blockcode>We can access, for example, \n",
    "    <ul><li>the (1,2) entry of A by typing <code>A[1,2]</code></li> <li>the second row of A by typing <code>A[2,]</code> </li><li>the first column of A by typing <code>A[,1]</code></li></ul> \n",
    "\n",
    "A, however, is not a very interesting matrix. Let's populate the first row with the vector x. The code is already in the next cell.\n",
    "    \n",
    "Add some additional lines to the cell to populate the second row with the vector y and the third row with the sum of the two vectors x and y.  Type `A` and run the cell to see the result.  \n",
    "</blockcode>\n"
   ]
  },
  {
   "cell_type": "code",
   "execution_count": 32,
   "metadata": {},
   "outputs": [
    {
     "data": {
      "text/html": [
       "<table>\n",
       "<caption>A matrix: 6 × 6 of type dbl</caption>\n",
       "<tbody>\n",
       "\t<tr><td>3</td><td>1</td><td> 7</td><td>4</td><td>-1</td><td> 8</td></tr>\n",
       "\t<tr><td>1</td><td>1</td><td>-1</td><td>1</td><td> 1</td><td>-1</td></tr>\n",
       "\t<tr><td>4</td><td>2</td><td> 6</td><td>5</td><td> 0</td><td> 7</td></tr>\n",
       "\t<tr><td>0</td><td>0</td><td> 0</td><td>0</td><td> 0</td><td> 0</td></tr>\n",
       "\t<tr><td>0</td><td>0</td><td> 0</td><td>0</td><td> 0</td><td> 0</td></tr>\n",
       "\t<tr><td>0</td><td>0</td><td> 0</td><td>0</td><td> 0</td><td> 0</td></tr>\n",
       "</tbody>\n",
       "</table>\n"
      ],
      "text/latex": [
       "A matrix: 6 × 6 of type dbl\n",
       "\\begin{tabular}{llllll}\n",
       "\t 3 & 1 &  7 & 4 & -1 &  8\\\\\n",
       "\t 1 & 1 & -1 & 1 &  1 & -1\\\\\n",
       "\t 4 & 2 &  6 & 5 &  0 &  7\\\\\n",
       "\t 0 & 0 &  0 & 0 &  0 &  0\\\\\n",
       "\t 0 & 0 &  0 & 0 &  0 &  0\\\\\n",
       "\t 0 & 0 &  0 & 0 &  0 &  0\\\\\n",
       "\\end{tabular}\n"
      ],
      "text/markdown": [
       "\n",
       "A matrix: 6 × 6 of type dbl\n",
       "\n",
       "| 3 | 1 |  7 | 4 | -1 |  8 |\n",
       "| 1 | 1 | -1 | 1 |  1 | -1 |\n",
       "| 4 | 2 |  6 | 5 |  0 |  7 |\n",
       "| 0 | 0 |  0 | 0 |  0 |  0 |\n",
       "| 0 | 0 |  0 | 0 |  0 |  0 |\n",
       "| 0 | 0 |  0 | 0 |  0 |  0 |\n",
       "\n"
      ],
      "text/plain": [
       "     [,1] [,2] [,3] [,4] [,5] [,6]\n",
       "[1,] 3    1     7   4    -1    8  \n",
       "[2,] 1    1    -1   1     1   -1  \n",
       "[3,] 4    2     6   5     0    7  \n",
       "[4,] 0    0     0   0     0    0  \n",
       "[5,] 0    0     0   0     0    0  \n",
       "[6,] 0    0     0   0     0    0  "
      ]
     },
     "metadata": {},
     "output_type": "display_data"
    }
   ],
   "source": [
    "# Modify and run this cell.\n",
    "A[1,] = x\n",
    "A[2,] = y\n",
    "A[3,] = x+y\n",
    "A"
   ]
  },
  {
   "cell_type": "markdown",
   "metadata": {},
   "source": [
    "<blockquote>As in the case with vectors, typing <code>A*A</code> will perform elementwise multiplication. In order to perform actual matrix multiplication, where elements come from dot products between columns and rows, we would type <code>A%*%A.</code> \n",
    "\n",
    "Try both operations in the next cell.\n",
    "</blockquote>"
   ]
  },
  {
   "cell_type": "code",
   "execution_count": 35,
   "metadata": {},
   "outputs": [
    {
     "data": {
      "text/html": [
       "<table>\n",
       "<caption>A matrix: 6 × 6 of type dbl</caption>\n",
       "<tbody>\n",
       "\t<tr><td> 9</td><td>1</td><td>49</td><td>16</td><td>1</td><td>64</td></tr>\n",
       "\t<tr><td> 1</td><td>1</td><td> 1</td><td> 1</td><td>1</td><td> 1</td></tr>\n",
       "\t<tr><td>16</td><td>4</td><td>36</td><td>25</td><td>0</td><td>49</td></tr>\n",
       "\t<tr><td> 0</td><td>0</td><td> 0</td><td> 0</td><td>0</td><td> 0</td></tr>\n",
       "\t<tr><td> 0</td><td>0</td><td> 0</td><td> 0</td><td>0</td><td> 0</td></tr>\n",
       "\t<tr><td> 0</td><td>0</td><td> 0</td><td> 0</td><td>0</td><td> 0</td></tr>\n",
       "</tbody>\n",
       "</table>\n"
      ],
      "text/latex": [
       "A matrix: 6 × 6 of type dbl\n",
       "\\begin{tabular}{llllll}\n",
       "\t  9 & 1 & 49 & 16 & 1 & 64\\\\\n",
       "\t  1 & 1 &  1 &  1 & 1 &  1\\\\\n",
       "\t 16 & 4 & 36 & 25 & 0 & 49\\\\\n",
       "\t  0 & 0 &  0 &  0 & 0 &  0\\\\\n",
       "\t  0 & 0 &  0 &  0 & 0 &  0\\\\\n",
       "\t  0 & 0 &  0 &  0 & 0 &  0\\\\\n",
       "\\end{tabular}\n"
      ],
      "text/markdown": [
       "\n",
       "A matrix: 6 × 6 of type dbl\n",
       "\n",
       "|  9 | 1 | 49 | 16 | 1 | 64 |\n",
       "|  1 | 1 |  1 |  1 | 1 |  1 |\n",
       "| 16 | 4 | 36 | 25 | 0 | 49 |\n",
       "|  0 | 0 |  0 |  0 | 0 |  0 |\n",
       "|  0 | 0 |  0 |  0 | 0 |  0 |\n",
       "|  0 | 0 |  0 |  0 | 0 |  0 |\n",
       "\n"
      ],
      "text/plain": [
       "     [,1] [,2] [,3] [,4] [,5] [,6]\n",
       "[1,]  9   1    49   16   1    64  \n",
       "[2,]  1   1     1    1   1     1  \n",
       "[3,] 16   4    36   25   0    49  \n",
       "[4,]  0   0     0    0   0     0  \n",
       "[5,]  0   0     0    0   0     0  \n",
       "[6,]  0   0     0    0   0     0  "
      ]
     },
     "metadata": {},
     "output_type": "display_data"
    }
   ],
   "source": [
    "A*A"
   ]
  },
  {
   "cell_type": "markdown",
   "metadata": {},
   "source": [
    "<blockquote>Suppose that we want to compute the inverse of the matrix A. You might be suprised to find that \"inverse(A)\" does not work. Instead we use the command <code>solve(A)</code>. However, we would get an error if we tried this now because our silly example matrix is not invertible!\n",
    "</blockquote>"
   ]
  },
  {
   "cell_type": "markdown",
   "metadata": {},
   "source": [
    "<hr style=\"height:2px;border-width:0;color:black;background-color:black\">"
   ]
  },
  {
   "cell_type": "markdown",
   "metadata": {},
   "source": [
    "<blockquote> \n",
    "    <b><mark>6. Data Frames:</mark></b> A \"data frame\" is like a matrix but is far more flexible as it can consist of many different types of data. We will be using data frames a lot in this course!\n",
    "    \n",
    "There is a plain text file in the same directory as this lab called \"dogs\". We will read it into R with a function called <code>read.table</code>. Run the next cell to see the results.  \n",
    "</blockquote>\n"
   ]
  },
  {
   "cell_type": "code",
   "execution_count": 47,
   "metadata": {},
   "outputs": [
    {
     "data": {
      "text/html": [
       "<table>\n",
       "<caption>A data.frame: 11 × 3</caption>\n",
       "<thead>\n",
       "\t<tr><th scope=col>V1</th><th scope=col>V2</th><th scope=col>V3</th></tr>\n",
       "\t<tr><th scope=col>&lt;fct&gt;</th><th scope=col>&lt;fct&gt;</th><th scope=col>&lt;fct&gt;</th></tr>\n",
       "</thead>\n",
       "<tbody>\n",
       "\t<tr><td>name    </td><td>age </td><td>weight</td></tr>\n",
       "\t<tr><td>Samantha</td><td>8.2 </td><td>14.6  </td></tr>\n",
       "\t<tr><td>Fred    </td><td>4.5 </td><td>10.2  </td></tr>\n",
       "\t<tr><td>Maureen </td><td>6.1 </td><td>11.2  </td></tr>\n",
       "\t<tr><td>Sparky  </td><td>0.8 </td><td>3.4   </td></tr>\n",
       "\t<tr><td>Rufus   </td><td>10.1</td><td>7.8   </td></tr>\n",
       "\t<tr><td>Muffin  </td><td>2.3 </td><td>4.1   </td></tr>\n",
       "\t<tr><td>Yoshi   </td><td>4.7 </td><td>7.8   </td></tr>\n",
       "\t<tr><td>Bart    </td><td>2.2 </td><td>13.5  </td></tr>\n",
       "\t<tr><td>Dahlia  </td><td>5.8 </td><td>22.8  </td></tr>\n",
       "\t<tr><td>Willow  </td><td>5.1 </td><td>11.3  </td></tr>\n",
       "</tbody>\n",
       "</table>\n"
      ],
      "text/latex": [
       "A data.frame: 11 × 3\n",
       "\\begin{tabular}{lll}\n",
       " V1 & V2 & V3\\\\\n",
       " <fct> & <fct> & <fct>\\\\\n",
       "\\hline\n",
       "\t name     & age  & weight\\\\\n",
       "\t Samantha & 8.2  & 14.6  \\\\\n",
       "\t Fred     & 4.5  & 10.2  \\\\\n",
       "\t Maureen  & 6.1  & 11.2  \\\\\n",
       "\t Sparky   & 0.8  & 3.4   \\\\\n",
       "\t Rufus    & 10.1 & 7.8   \\\\\n",
       "\t Muffin   & 2.3  & 4.1   \\\\\n",
       "\t Yoshi    & 4.7  & 7.8   \\\\\n",
       "\t Bart     & 2.2  & 13.5  \\\\\n",
       "\t Dahlia   & 5.8  & 22.8  \\\\\n",
       "\t Willow   & 5.1  & 11.3  \\\\\n",
       "\\end{tabular}\n"
      ],
      "text/markdown": [
       "\n",
       "A data.frame: 11 × 3\n",
       "\n",
       "| V1 &lt;fct&gt; | V2 &lt;fct&gt; | V3 &lt;fct&gt; |\n",
       "|---|---|---|\n",
       "| name     | age  | weight |\n",
       "| Samantha | 8.2  | 14.6   |\n",
       "| Fred     | 4.5  | 10.2   |\n",
       "| Maureen  | 6.1  | 11.2   |\n",
       "| Sparky   | 0.8  | 3.4    |\n",
       "| Rufus    | 10.1 | 7.8    |\n",
       "| Muffin   | 2.3  | 4.1    |\n",
       "| Yoshi    | 4.7  | 7.8    |\n",
       "| Bart     | 2.2  | 13.5   |\n",
       "| Dahlia   | 5.8  | 22.8   |\n",
       "| Willow   | 5.1  | 11.3   |\n",
       "\n"
      ],
      "text/plain": [
       "   V1       V2   V3    \n",
       "1  name     age  weight\n",
       "2  Samantha 8.2  14.6  \n",
       "3  Fred     4.5  10.2  \n",
       "4  Maureen  6.1  11.2  \n",
       "5  Sparky   0.8  3.4   \n",
       "6  Rufus    10.1 7.8   \n",
       "7  Muffin   2.3  4.1   \n",
       "8  Yoshi    4.7  7.8   \n",
       "9  Bart     2.2  13.5  \n",
       "10 Dahlia   5.8  22.8  \n",
       "11 Willow   5.1  11.3  "
      ]
     },
     "metadata": {},
     "output_type": "display_data"
    }
   ],
   "source": [
    "# Run this cell.\n",
    "dogs<-read.table(\"dogs\")\n",
    "dogs\n"
   ]
  },
  {
   "cell_type": "markdown",
   "metadata": {},
   "source": [
    "<blockquote>At the top of the resulting table you should see the labels \"V1\", \"V2\", and \"V3\". These are generic column names for a data frame. However, it appears that the file already had column names as a \"header row\". Let's try reading the data in while telling R that we already have column names in the file.</blockquote>"
   ]
  },
  {
   "cell_type": "code",
   "execution_count": 49,
   "metadata": {},
   "outputs": [
    {
     "data": {
      "text/html": [
       "<table>\n",
       "<caption>A data.frame: 10 × 3</caption>\n",
       "<thead>\n",
       "\t<tr><th scope=col>name</th><th scope=col>age</th><th scope=col>weight</th></tr>\n",
       "\t<tr><th scope=col>&lt;fct&gt;</th><th scope=col>&lt;dbl&gt;</th><th scope=col>&lt;dbl&gt;</th></tr>\n",
       "</thead>\n",
       "<tbody>\n",
       "\t<tr><td>Samantha</td><td> 8.2</td><td>14.6</td></tr>\n",
       "\t<tr><td>Fred    </td><td> 4.5</td><td>10.2</td></tr>\n",
       "\t<tr><td>Maureen </td><td> 6.1</td><td>11.2</td></tr>\n",
       "\t<tr><td>Sparky  </td><td> 0.8</td><td> 3.4</td></tr>\n",
       "\t<tr><td>Rufus   </td><td>10.1</td><td> 7.8</td></tr>\n",
       "\t<tr><td>Muffin  </td><td> 2.3</td><td> 4.1</td></tr>\n",
       "\t<tr><td>Yoshi   </td><td> 4.7</td><td> 7.8</td></tr>\n",
       "\t<tr><td>Bart    </td><td> 2.2</td><td>13.5</td></tr>\n",
       "\t<tr><td>Dahlia  </td><td> 5.8</td><td>22.8</td></tr>\n",
       "\t<tr><td>Willow  </td><td> 5.1</td><td>11.3</td></tr>\n",
       "</tbody>\n",
       "</table>\n"
      ],
      "text/latex": [
       "A data.frame: 10 × 3\n",
       "\\begin{tabular}{lll}\n",
       " name & age & weight\\\\\n",
       " <fct> & <dbl> & <dbl>\\\\\n",
       "\\hline\n",
       "\t Samantha &  8.2 & 14.6\\\\\n",
       "\t Fred     &  4.5 & 10.2\\\\\n",
       "\t Maureen  &  6.1 & 11.2\\\\\n",
       "\t Sparky   &  0.8 &  3.4\\\\\n",
       "\t Rufus    & 10.1 &  7.8\\\\\n",
       "\t Muffin   &  2.3 &  4.1\\\\\n",
       "\t Yoshi    &  4.7 &  7.8\\\\\n",
       "\t Bart     &  2.2 & 13.5\\\\\n",
       "\t Dahlia   &  5.8 & 22.8\\\\\n",
       "\t Willow   &  5.1 & 11.3\\\\\n",
       "\\end{tabular}\n"
      ],
      "text/markdown": [
       "\n",
       "A data.frame: 10 × 3\n",
       "\n",
       "| name &lt;fct&gt; | age &lt;dbl&gt; | weight &lt;dbl&gt; |\n",
       "|---|---|---|\n",
       "| Samantha |  8.2 | 14.6 |\n",
       "| Fred     |  4.5 | 10.2 |\n",
       "| Maureen  |  6.1 | 11.2 |\n",
       "| Sparky   |  0.8 |  3.4 |\n",
       "| Rufus    | 10.1 |  7.8 |\n",
       "| Muffin   |  2.3 |  4.1 |\n",
       "| Yoshi    |  4.7 |  7.8 |\n",
       "| Bart     |  2.2 | 13.5 |\n",
       "| Dahlia   |  5.8 | 22.8 |\n",
       "| Willow   |  5.1 | 11.3 |\n",
       "\n"
      ],
      "text/plain": [
       "   name     age  weight\n",
       "1  Samantha  8.2 14.6  \n",
       "2  Fred      4.5 10.2  \n",
       "3  Maureen   6.1 11.2  \n",
       "4  Sparky    0.8  3.4  \n",
       "5  Rufus    10.1  7.8  \n",
       "6  Muffin    2.3  4.1  \n",
       "7  Yoshi     4.7  7.8  \n",
       "8  Bart      2.2 13.5  \n",
       "9  Dahlia    5.8 22.8  \n",
       "10 Willow    5.1 11.3  "
      ]
     },
     "metadata": {},
     "output_type": "display_data"
    }
   ],
   "source": [
    "# Run this cell.\n",
    "dogs<-read.table(\"dogs\",header=TRUE)\n",
    "dogs"
   ]
  },
  {
   "cell_type": "markdown",
   "metadata": {},
   "source": [
    "<blockquote>Much better! \n",
    "\n",
    "\n",
    "We can grab an entire column using its name after a dollar sign. Try typing \n",
    "    \n",
    "`dogs$age`\n",
    "\n",
    "in the next cell and running the cell.\n",
    "</blockquote>"
   ]
  },
  {
   "cell_type": "code",
   "execution_count": 50,
   "metadata": {},
   "outputs": [
    {
     "data": {
      "text/html": [
       "<style>\n",
       ".list-inline {list-style: none; margin:0; padding: 0}\n",
       ".list-inline>li {display: inline-block}\n",
       ".list-inline>li:not(:last-child)::after {content: \"\\00b7\"; padding: 0 .5ex}\n",
       "</style>\n",
       "<ol class=list-inline><li>8.2</li><li>4.5</li><li>6.1</li><li>0.8</li><li>10.1</li><li>2.3</li><li>4.7</li><li>2.2</li><li>5.8</li><li>5.1</li></ol>\n"
      ],
      "text/latex": [
       "\\begin{enumerate*}\n",
       "\\item 8.2\n",
       "\\item 4.5\n",
       "\\item 6.1\n",
       "\\item 0.8\n",
       "\\item 10.1\n",
       "\\item 2.3\n",
       "\\item 4.7\n",
       "\\item 2.2\n",
       "\\item 5.8\n",
       "\\item 5.1\n",
       "\\end{enumerate*}\n"
      ],
      "text/markdown": [
       "1. 8.2\n",
       "2. 4.5\n",
       "3. 6.1\n",
       "4. 0.8\n",
       "5. 10.1\n",
       "6. 2.3\n",
       "7. 4.7\n",
       "8. 2.2\n",
       "9. 5.8\n",
       "10. 5.1\n",
       "\n",
       "\n"
      ],
      "text/plain": [
       " [1]  8.2  4.5  6.1  0.8 10.1  2.3  4.7  2.2  5.8  5.1"
      ]
     },
     "metadata": {},
     "output_type": "display_data"
    }
   ],
   "source": [
    "dogs$age"
   ]
  },
  {
   "cell_type": "markdown",
   "metadata": {},
   "source": [
    "<blockquote>The columns for age and weight hold \"dbl\" or \"double\" type variables. \"Doubles\" are numeric variables with decimal points. Looking at the data frame above, it appears that \"name\" is a \"factor\" variable. ** Factor variables are useful for categorizing data into \"types\" **. For example, if every dog was one of three types called \"A\", \"B\", or \"C\", we would store that as a factor variable. Here, the dogs' names are not really categories. Let's change the variable type and make it a \"character\" column.  </blockquote>"
   ]
  },
  {
   "cell_type": "code",
   "execution_count": 51,
   "metadata": {},
   "outputs": [
    {
     "data": {
      "text/html": [
       "<table>\n",
       "<caption>A data.frame: 10 × 3</caption>\n",
       "<thead>\n",
       "\t<tr><th scope=col>name</th><th scope=col>age</th><th scope=col>weight</th></tr>\n",
       "\t<tr><th scope=col>&lt;chr&gt;</th><th scope=col>&lt;dbl&gt;</th><th scope=col>&lt;dbl&gt;</th></tr>\n",
       "</thead>\n",
       "<tbody>\n",
       "\t<tr><td>Samantha</td><td> 8.2</td><td>14.6</td></tr>\n",
       "\t<tr><td>Fred    </td><td> 4.5</td><td>10.2</td></tr>\n",
       "\t<tr><td>Maureen </td><td> 6.1</td><td>11.2</td></tr>\n",
       "\t<tr><td>Sparky  </td><td> 0.8</td><td> 3.4</td></tr>\n",
       "\t<tr><td>Rufus   </td><td>10.1</td><td> 7.8</td></tr>\n",
       "\t<tr><td>Muffin  </td><td> 2.3</td><td> 4.1</td></tr>\n",
       "\t<tr><td>Yoshi   </td><td> 4.7</td><td> 7.8</td></tr>\n",
       "\t<tr><td>Bart    </td><td> 2.2</td><td>13.5</td></tr>\n",
       "\t<tr><td>Dahlia  </td><td> 5.8</td><td>22.8</td></tr>\n",
       "\t<tr><td>Willow  </td><td> 5.1</td><td>11.3</td></tr>\n",
       "</tbody>\n",
       "</table>\n"
      ],
      "text/latex": [
       "A data.frame: 10 × 3\n",
       "\\begin{tabular}{lll}\n",
       " name & age & weight\\\\\n",
       " <chr> & <dbl> & <dbl>\\\\\n",
       "\\hline\n",
       "\t Samantha &  8.2 & 14.6\\\\\n",
       "\t Fred     &  4.5 & 10.2\\\\\n",
       "\t Maureen  &  6.1 & 11.2\\\\\n",
       "\t Sparky   &  0.8 &  3.4\\\\\n",
       "\t Rufus    & 10.1 &  7.8\\\\\n",
       "\t Muffin   &  2.3 &  4.1\\\\\n",
       "\t Yoshi    &  4.7 &  7.8\\\\\n",
       "\t Bart     &  2.2 & 13.5\\\\\n",
       "\t Dahlia   &  5.8 & 22.8\\\\\n",
       "\t Willow   &  5.1 & 11.3\\\\\n",
       "\\end{tabular}\n"
      ],
      "text/markdown": [
       "\n",
       "A data.frame: 10 × 3\n",
       "\n",
       "| name &lt;chr&gt; | age &lt;dbl&gt; | weight &lt;dbl&gt; |\n",
       "|---|---|---|\n",
       "| Samantha |  8.2 | 14.6 |\n",
       "| Fred     |  4.5 | 10.2 |\n",
       "| Maureen  |  6.1 | 11.2 |\n",
       "| Sparky   |  0.8 |  3.4 |\n",
       "| Rufus    | 10.1 |  7.8 |\n",
       "| Muffin   |  2.3 |  4.1 |\n",
       "| Yoshi    |  4.7 |  7.8 |\n",
       "| Bart     |  2.2 | 13.5 |\n",
       "| Dahlia   |  5.8 | 22.8 |\n",
       "| Willow   |  5.1 | 11.3 |\n",
       "\n"
      ],
      "text/plain": [
       "   name     age  weight\n",
       "1  Samantha  8.2 14.6  \n",
       "2  Fred      4.5 10.2  \n",
       "3  Maureen   6.1 11.2  \n",
       "4  Sparky    0.8  3.4  \n",
       "5  Rufus    10.1  7.8  \n",
       "6  Muffin    2.3  4.1  \n",
       "7  Yoshi     4.7  7.8  \n",
       "8  Bart      2.2 13.5  \n",
       "9  Dahlia    5.8 22.8  \n",
       "10 Willow    5.1 11.3  "
      ]
     },
     "metadata": {},
     "output_type": "display_data"
    }
   ],
   "source": [
    "# Run this cell.\n",
    "dogs$name<-as.character(dogs$name)\n",
    "dogs"
   ]
  },
  {
   "cell_type": "markdown",
   "metadata": {},
   "source": [
    "<blockquote>We can get the dimension of the data frame by type <code>dim(dogs)</code>. This will return a vector whose first element is the number of rows of the data frame and whose second is the number of columns. We can then specifically pick out, for example, the number of rows as follows.</blockquote>"
   ]
  },
  {
   "cell_type": "code",
   "execution_count": 52,
   "metadata": {},
   "outputs": [
    {
     "data": {
      "text/html": [
       "10"
      ],
      "text/latex": [
       "10"
      ],
      "text/markdown": [
       "10"
      ],
      "text/plain": [
       "[1] 10"
      ]
     },
     "metadata": {},
     "output_type": "display_data"
    }
   ],
   "source": [
    "dim(dogs)[1]"
   ]
  },
  {
   "cell_type": "markdown",
   "metadata": {},
   "source": [
    "<blockquote>Typing <code>dogs[3,1]</code> will return the (3,1) entry of the data frame. To return the entire third row, type <code>dogs[3,]</code></blockquote>"
   ]
  },
  {
   "cell_type": "code",
   "execution_count": 57,
   "metadata": {},
   "outputs": [
    {
     "data": {
      "text/html": [
       "'Maureen'"
      ],
      "text/latex": [
       "'Maureen'"
      ],
      "text/markdown": [
       "'Maureen'"
      ],
      "text/plain": [
       "[1] \"Maureen\""
      ]
     },
     "metadata": {},
     "output_type": "display_data"
    },
    {
     "data": {
      "text/html": [
       "<table>\n",
       "<caption>A data.frame: 1 × 3</caption>\n",
       "<thead>\n",
       "\t<tr><th></th><th scope=col>name</th><th scope=col>age</th><th scope=col>weight</th></tr>\n",
       "\t<tr><th></th><th scope=col>&lt;chr&gt;</th><th scope=col>&lt;dbl&gt;</th><th scope=col>&lt;dbl&gt;</th></tr>\n",
       "</thead>\n",
       "<tbody>\n",
       "\t<tr><th scope=row>3</th><td>Maureen</td><td>6.1</td><td>11.2</td></tr>\n",
       "</tbody>\n",
       "</table>\n"
      ],
      "text/latex": [
       "A data.frame: 1 × 3\n",
       "\\begin{tabular}{r|lll}\n",
       "  & name & age & weight\\\\\n",
       "  & <chr> & <dbl> & <dbl>\\\\\n",
       "\\hline\n",
       "\t3 & Maureen & 6.1 & 11.2\\\\\n",
       "\\end{tabular}\n"
      ],
      "text/markdown": [
       "\n",
       "A data.frame: 1 × 3\n",
       "\n",
       "| <!--/--> | name &lt;chr&gt; | age &lt;dbl&gt; | weight &lt;dbl&gt; |\n",
       "|---|---|---|---|\n",
       "| 3 | Maureen | 6.1 | 11.2 |\n",
       "\n"
      ],
      "text/plain": [
       "  name    age weight\n",
       "3 Maureen 6.1 11.2  "
      ]
     },
     "metadata": {},
     "output_type": "display_data"
    }
   ],
   "source": [
    "# Try it!\n",
    "dogs[3, 1] # 'Maureen' Dog's name\n",
    "dogs[3,]   # entire row\n"
   ]
  },
  {
   "cell_type": "markdown",
   "metadata": {},
   "source": [
    "<blockquote>We can return the second column of the data frame by type <code>dogs[,2]</code> or by refering to the column by its name and typing <code>dogs$age</code>.</blockquote>"
   ]
  },
  {
   "cell_type": "code",
   "execution_count": 59,
   "metadata": {},
   "outputs": [
    {
     "data": {
      "text/html": [
       "<style>\n",
       ".list-inline {list-style: none; margin:0; padding: 0}\n",
       ".list-inline>li {display: inline-block}\n",
       ".list-inline>li:not(:last-child)::after {content: \"\\00b7\"; padding: 0 .5ex}\n",
       "</style>\n",
       "<ol class=list-inline><li>8.2</li><li>4.5</li><li>6.1</li><li>0.8</li><li>10.1</li><li>2.3</li><li>4.7</li><li>2.2</li><li>5.8</li><li>5.1</li></ol>\n"
      ],
      "text/latex": [
       "\\begin{enumerate*}\n",
       "\\item 8.2\n",
       "\\item 4.5\n",
       "\\item 6.1\n",
       "\\item 0.8\n",
       "\\item 10.1\n",
       "\\item 2.3\n",
       "\\item 4.7\n",
       "\\item 2.2\n",
       "\\item 5.8\n",
       "\\item 5.1\n",
       "\\end{enumerate*}\n"
      ],
      "text/markdown": [
       "1. 8.2\n",
       "2. 4.5\n",
       "3. 6.1\n",
       "4. 0.8\n",
       "5. 10.1\n",
       "6. 2.3\n",
       "7. 4.7\n",
       "8. 2.2\n",
       "9. 5.8\n",
       "10. 5.1\n",
       "\n",
       "\n"
      ],
      "text/plain": [
       " [1]  8.2  4.5  6.1  0.8 10.1  2.3  4.7  2.2  5.8  5.1"
      ]
     },
     "metadata": {},
     "output_type": "display_data"
    }
   ],
   "source": [
    "# Try it!\n",
    "dogs[,2] # return all values from 2nd column"
   ]
  },
  {
   "cell_type": "markdown",
   "metadata": {},
   "source": [
    "<blockquote>Suppose that we want to see the names of all dogs that weigh more than $5.5$ units.</blockquote>"
   ]
  },
  {
   "cell_type": "code",
   "execution_count": 60,
   "metadata": {},
   "outputs": [
    {
     "data": {
      "text/html": [
       "<style>\n",
       ".list-inline {list-style: none; margin:0; padding: 0}\n",
       ".list-inline>li {display: inline-block}\n",
       ".list-inline>li:not(:last-child)::after {content: \"\\00b7\"; padding: 0 .5ex}\n",
       "</style>\n",
       "<ol class=list-inline><li>'Samantha'</li><li>'Maureen'</li><li>'Rufus'</li><li>'Dahlia'</li></ol>\n"
      ],
      "text/latex": [
       "\\begin{enumerate*}\n",
       "\\item 'Samantha'\n",
       "\\item 'Maureen'\n",
       "\\item 'Rufus'\n",
       "\\item 'Dahlia'\n",
       "\\end{enumerate*}\n"
      ],
      "text/markdown": [
       "1. 'Samantha'\n",
       "2. 'Maureen'\n",
       "3. 'Rufus'\n",
       "4. 'Dahlia'\n",
       "\n",
       "\n"
      ],
      "text/plain": [
       "[1] \"Samantha\" \"Maureen\"  \"Rufus\"    \"Dahlia\"  "
      ]
     },
     "metadata": {},
     "output_type": "display_data"
    }
   ],
   "source": [
    "# Run this cell.\n",
    "dogs$name[dogs$age>5.5]"
   ]
  },
  {
   "cell_type": "markdown",
   "metadata": {},
   "source": [
    "<blockquote>Let's average all of the dog weights.\n",
    "\n",
    "`mean(dogs$weights)`\n",
    "\n",
    "</blockquote>"
   ]
  },
  {
   "cell_type": "code",
   "execution_count": 61,
   "metadata": {},
   "outputs": [
    {
     "data": {
      "text/html": [
       "4.98"
      ],
      "text/latex": [
       "4.98"
      ],
      "text/markdown": [
       "4.98"
      ],
      "text/plain": [
       "[1] 4.98"
      ]
     },
     "metadata": {},
     "output_type": "display_data"
    }
   ],
   "source": [
    "# Try it!\n",
    "mean(dogs$age)"
   ]
  },
  {
   "cell_type": "markdown",
   "metadata": {},
   "source": [
    "<blockquote>To average the weights of only the dogs whose age exceeds 5.5 type the following.\n",
    "\n",
    "`mean(dogs$weight[dogs$age>5.5])`\n",
    "\n",
    "</blockquote>"
   ]
  },
  {
   "cell_type": "code",
   "execution_count": 62,
   "metadata": {},
   "outputs": [
    {
     "data": {
      "text/html": [
       "14.1"
      ],
      "text/latex": [
       "14.1"
      ],
      "text/markdown": [
       "14.1"
      ],
      "text/plain": [
       "[1] 14.1"
      ]
     },
     "metadata": {},
     "output_type": "display_data"
    }
   ],
   "source": [
    "# Run this cell.\n",
    "# Tip: In your head, read these square brackets as \"such that\".\n",
    "mean(dogs$weight[dogs$age>5.5])"
   ]
  },
  {
   "cell_type": "markdown",
   "metadata": {},
   "source": [
    "<blockquote>Let's plot the dogs ages versus weights. We can do this by typing <code>plot(dogs$age,dogs$weight)</code>.\n",
    "\n",
    "In the next cell we have included other arguments in the plot function. Can you figure out what they do?\n",
    "</blockquote>"
   ]
  },
  {
   "cell_type": "code",
   "execution_count": 64,
   "metadata": {},
   "outputs": [
    {
     "data": {
      "image/png": "[encoded data removed]",
      "text/plain": [
       "Plot with title “My Wonderful Plot”"
      ]
     },
     "metadata": {
      "image/png": {
       "height": 420,
       "width": 420
      },
      "text/plain": {
       "height": 420,
       "width": 420
      }
     },
     "output_type": "display_data"
    }
   ],
   "source": [
    "# Run this cell.\n",
    "plot(dogs$age,dogs$weight,xlab=\"age\",ylab=\"weight\",main=\"My Wonderful Plot\",pch=2)"
   ]
  },
  {
   "cell_type": "markdown",
   "metadata": {},
   "source": [
    "<blockquote>There are many different \"plotting characters\" avai\"lable in R. <u>Return to the previous cell.</u> After \"My Wonderful Plot\" but before the closing parentheses, type a comma and then <code>pch=2</code>. Run the cell. Try some other numbers!</blockquote>"
   ]
  },
  {
   "cell_type": "markdown",
   "metadata": {},
   "source": [
    "<blockquote>We will now remake the plot with solid filled blue points. Then, we will add a red point at $(6,5)$.</blockquote>"
   ]
  },
  {
   "cell_type": "code",
   "execution_count": 69,
   "metadata": {},
   "outputs": [
    {
     "data": {
      "image/png": "[encoded data removed]",
      "text/plain": [
       "Plot with title “My Wonderful Plot”"
      ]
     },
     "metadata": {
      "image/png": {
       "height": 420,
       "width": 420
      },
      "text/plain": {
       "height": 420,
       "width": 420
      }
     },
     "output_type": "display_data"
    }
   ],
   "source": [
    "# Run this cell.\n",
    "plot(dogs$age,dogs$weight,xlab=\"age\",ylab=\"weight\",main=\"My Wonderful Plot\",pch=19,col=\"blue\")\n",
    "# points(6,5,pch=19,col=\"red\")\n",
    "points(dogs$age[dogs$weight<10],dogs$weight[dogs$weight<10],pch=19,col=\"red\")"
   ]
  },
  {
   "cell_type": "markdown",
   "metadata": {},
   "source": [
    "<blockquote>Return to the previous cell and replace the line<br>\n",
    "  \n",
    "`points(6,5,pch=19,col=\"red\")`\n",
    "    \n",
    "with<br>\n",
    "    \n",
    "`points(dogs$age[dogs$weight<10],dogs$weight[dogs$weight<10],pch=19,col=\"red\")`    \n",
    "\n",
    "    \n",
    "Think about what this line is doing!  \n",
    "</blockquote>"
   ]
  },
  {
   "cell_type": "markdown",
   "metadata": {},
   "source": [
    "<blockquote>To conclude this tutorial, let's make a histogram of the dog weights. In the next cell, type<br>\n",
    "\n",
    "`hist(dogs$weight`)\n",
    "\n",
    "Can you change the title on this plot?\n",
    "</blockquote>"
   ]
  },
  {
   "cell_type": "code",
   "execution_count": 70,
   "metadata": {},
   "outputs": [
    {
     "data": {
      "image/png": "[encoded data removed]",
      "text/plain": [
       "Plot with title “Histogram of dogs$weight”"
      ]
     },
     "metadata": {
      "image/png": {
       "height": 420,
       "width": 420
      },
      "text/plain": {
       "height": 420,
       "width": 420
      }
     },
     "output_type": "display_data"
    }
   ],
   "source": [
    "hist(dogs$weight)"
   ]
  },
  {
   "cell_type": "markdown",
   "metadata": {},
   "source": [
    "<blockquote>The histogram that we just made has \"Frequency\" on the $y$-axis. In this case, the height of each bar represents the total number of dogs in the data set whose height falls in the ranges that make up the bases (\"bins\") of the rectangles. Throughtout this course, we will want to use \"Density\" instead of \"Frequency\". When the $y$-axis uses \"density\", the height of each bar will be such that the total are of each bar is the proportion of dogs whose weight falls into the associated range. This will become an estimate of the probability of any dog's weight being in that range if we were to sample more dogs. Run the next cell. </blockquote>"
   ]
  },
  {
   "cell_type": "code",
   "execution_count": 71,
   "metadata": {},
   "outputs": [
    {
     "data": {
      "image/png": "[encoded data removed]",
      "text/plain": [
       "Plot with title “Histogram of dogs$weight”"
      ]
     },
     "metadata": {
      "image/png": {
       "height": 420,
       "width": 420
      },
      "text/plain": {
       "height": 420,
       "width": 420
      }
     },
     "output_type": "display_data"
    }
   ],
   "source": [
    "# Run this cell.\n",
    "hist(dogs$weight,prob=T)"
   ]
  },
  {
   "cell_type": "code",
   "execution_count": 72,
   "metadata": {},
   "outputs": [
    {
     "data": {
      "text/html": [
       "0.2"
      ],
      "text/latex": [
       "0.2"
      ],
      "text/markdown": [
       "0.2"
      ],
      "text/plain": [
       "[1] 0.2"
      ]
     },
     "metadata": {},
     "output_type": "display_data"
    }
   ],
   "source": [
    "# Let's check out the proportion of dogs in our sample whose weight is less than 5 units.\n",
    "length(dogs$weight[dogs$weight<5])/length(dogs$weight)"
   ]
  },
  {
   "cell_type": "markdown",
   "metadata": {},
   "source": [
    "<blockquote>Note that the first rectangle has base width $5$ and therefore area $(5)(0.04)=0.2$.</blockquote>"
   ]
  },
  {
   "cell_type": "markdown",
   "metadata": {},
   "source": [
    "<blockquote>Finally, let's change the width of the bins of this histogram. That is, let's change where we put the \"breaks\" and make each bar only 2 units wide. We will make a sequence of numbers that will cover the range of the data. (We have already checked the range of the data by typing <code>min(dogs$weight)</code> and \n",
    "\n",
    "<code>max(dogs$weight)</code> )</blockquote>"
   ]
  },
  {
   "cell_type": "code",
   "execution_count": 75,
   "metadata": {},
   "outputs": [
    {
     "data": {
      "image/png": "[encoded data removed]",
      "text/plain": [
       "Plot with title “Histogram of dogs$weight”"
      ]
     },
     "metadata": {
      "image/png": {
       "height": 420,
       "width": 420
      },
      "text/plain": {
       "height": 420,
       "width": 420
      }
     },
     "output_type": "display_data"
    }
   ],
   "source": [
    "br<-seq(0,26,2)\n",
    "hist(dogs$weight,prob=T,breaks=br)"
   ]
  },
  {
   "cell_type": "markdown",
   "metadata": {},
   "source": [
    "<hr>\n",
    "That was fun. Let's get back to the course shall we?"
   ]
  },
  {
   "cell_type": "code",
   "execution_count": null,
   "metadata": {},
   "outputs": [],
   "source": []
  }
 ],
 "metadata": {
  "kernelspec": {
   "display_name": "base",
   "language": "python",
   "name": "python3"
  },
  "language_info": {
   "codemirror_mode": {
    "name": "ipython",
    "version": 3
   },
   "file_extension": ".py",
   "mimetype": "text/x-python",
   "name": "python",
   "nbconvert_exporter": "python",
   "pygments_lexer": "ipython3",
   "version": "3.9.12"
  }
 },
 "nbformat": 4,
 "nbformat_minor": 4
}
